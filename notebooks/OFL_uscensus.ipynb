{
 "cells": [
  {
   "cell_type": "markdown",
   "metadata": {},
   "source": [
    "## Preliminaries"
   ]
  },
  {
   "cell_type": "code",
   "execution_count": 1,
   "metadata": {},
   "outputs": [],
   "source": [
    "import numpy as np\n",
    "import math\n",
    "\n",
    "import matplotlib.pyplot as plt\n",
    "import matplotlib.pylab as pl\n",
    "import matplotlib.gridspec as gridspec\n",
    "\n",
    "import gurobipy as gp\n",
    "from gurobipy import GRB"
   ]
  },
  {
   "cell_type": "code",
   "execution_count": 2,
   "metadata": {},
   "outputs": [],
   "source": [
    "'''Return Euclidean distance from a to b'''\n",
    "def dist(a, b):\n",
    "    return math.sqrt(sum([(i-j)**2 for i,j in zip(a,b)]))\n",
    "\n",
    "'''Return closest facility to p from set opens.\n",
    "   return -1 if opens is empty\n",
    "'''\n",
    "def find_closest_f(opens, p):\n",
    "    if not opens: # No facility has opened yet\n",
    "        return (-1,0)\n",
    "    dists = list(map(lambda x: dist(x,p), opens))\n",
    "    idx = np.argmin(dists)\n",
    "    return (idx, dists[idx])"
   ]
  },
  {
   "cell_type": "code",
   "execution_count": 3,
   "metadata": {},
   "outputs": [],
   "source": [
    "'''\n",
    "Generates uniform random points on the grid\n",
    "'''\n",
    "def uniform_random_points(n, MIN=1, MAX=20):\n",
    "    points = []\n",
    "    for _ in range(n):\n",
    "        x, y = np.random.randint(MIN, MAX), np.random.randint(MIN, MAX)\n",
    "        points.append((x,y))\n",
    "    return points"
   ]
  },
  {
   "cell_type": "markdown",
   "metadata": {},
   "source": [
    "## Solvers (Optimal, Meyerson, PredFL)"
   ]
  },
  {
   "cell_type": "markdown",
   "metadata": {},
   "source": [
    "### Optimal"
   ]
  },
  {
   "cell_type": "code",
   "execution_count": 4,
   "metadata": {},
   "outputs": [],
   "source": [
    "from itertools import product\n",
    "\n",
    "def LPG(customers, facilities, f, savefile=None):\n",
    "    num_customers = len(customers)\n",
    "    num_facilities = len(facilities)\n",
    "    cartesian_prod = list(product(range(num_customers), range(num_facilities)))\n",
    "\n",
    "    # Compute cost\n",
    "    setup_cost = [f] * num_facilities\n",
    "    shipping_cost = {(c,f): dist(customers[c], facilities[f]) for c, f in cartesian_prod}\n",
    "    \n",
    "#     print(\"Initialize Model\")\n",
    "    \n",
    "    m = gp.Model('facility_location')\n",
    "    m.Params.LogToConsole = 0\n",
    "    m.Params.Method = 1\n",
    "\n",
    "    select = m.addVars(num_facilities, lb=0, vtype=GRB.CONTINUOUS, name='Select')\n",
    "    assign = m.addVars(cartesian_prod, lb=0, vtype=GRB.CONTINUOUS, name='Assign')\n",
    "\n",
    "    m.addConstrs((assign[(c,f)] <= select[f] for c,f in cartesian_prod), name='Setup2ship')\n",
    "    m.addConstrs((gp.quicksum(assign[(c,f)] for f in range(num_facilities)) == 1 for c in range(num_customers)), name='Demand')\n",
    "\n",
    "    m.setObjective(select.prod(setup_cost)+assign.prod(shipping_cost), GRB.MINIMIZE)\n",
    "    \n",
    "#     print(\"Optimize Model\")\n",
    "\n",
    "    m.optimize()\n",
    "    \n",
    "    if savefile:\n",
    "        m.write(\"{0}.sol\".format(savefile))\n",
    "    \n",
    "    # Retrieve Solution \n",
    "    \n",
    "    n = num_customers\n",
    "    M = num_facilities\n",
    "    \n",
    "    c = np.array(\n",
    "        [\n",
    "            [dist(facilities[i], customers[j]) for j in range(n)]\n",
    "            for i in range(M)\n",
    "        ]\n",
    "    )\n",
    "    \n",
    "    ret_x = np.array([ select[i].x for i in range(M)])\n",
    "    # y[i,j] facility i connects with demand j\n",
    "    ret_y = np.array(\n",
    "        [\n",
    "            [assign[(j,i)].x for j in range(n)]\n",
    "            for i in range(M)\n",
    "        ]\n",
    "    )\n",
    "\n",
    "    return ret_x, ret_y, c"
   ]
  },
  {
   "cell_type": "markdown",
   "metadata": {},
   "source": [
    "#### Rounding"
   ]
  },
  {
   "cell_type": "code",
   "execution_count": 5,
   "metadata": {},
   "outputs": [],
   "source": [
    "def primal_rounding(x, y, c):\n",
    "    # x: 1*n, y: n*n\n",
    "    n = x.size\n",
    "    #### ----- filtering ------- ######\n",
    "    c_bar = np.array([ c[:,j] @ y[:,j] for j in range(n)])\n",
    "    \n",
    "    # S_j sets\n",
    "    S = []\n",
    "    S_l = []\n",
    "    # for each demand j: Sj = facilities where c[i,j] < 2c_bar[j]\n",
    "    for j in range(n):\n",
    "        cand = []\n",
    "        for i in range(n):\n",
    "            if c[i,j] <= c_bar[j]: cand.append(i)\n",
    "        S.append(set(cand))\n",
    "        S_l.append(cand)\n",
    "    \n",
    "    y_bar = np.zeros((n,n))\n",
    "    for i in range(n):\n",
    "        for j in range(n):\n",
    "            if i in S[j]:\n",
    "                # maybe change that later\n",
    "                y_bar[i,j] = y[i,j] / np.sum([y[i,j] for i in S_l[j]])\n",
    "                \n",
    "    x_bar = np.minimum(2 * x, 1)\n",
    "            \n",
    "    #### ----- rounding ------- ######\n",
    "    xx = np.zeros(n)\n",
    "    yy = np.zeros((n,n))\n",
    "    \n",
    "    unassigned = np.array([True] * n)\n",
    "    cnt = 0\n",
    "    while(cnt < n):\n",
    "        # find min unassigned\n",
    "        c_min = np.inf\n",
    "        c_idx = 0\n",
    "        for j in range(n):\n",
    "            if unassigned[j] and (c_bar[j] < c_min):\n",
    "                c_min = c_bar[j]\n",
    "                c_idx = j\n",
    "        \n",
    "        unassigned[c_idx] = False\n",
    "        f_idx = S_l[c_idx][0]\n",
    "        \n",
    "        # open facility\n",
    "        xx[f_idx] = 1\n",
    "        \n",
    "        # assign demand to facility\n",
    "        yy[f_idx, c_idx] = 1\n",
    "        cnt += 1\n",
    "        \n",
    "        for j in range(n):\n",
    "            if (j != c_idx) and (unassigned[j]):\n",
    "                if (S[c_idx].intersection(S[j])):\n",
    "                    unassigned[j] = False\n",
    "                    \n",
    "                    yy[f_idx, j] = 1\n",
    "                    cnt += 1\n",
    "    return xx,yy"
   ]
  },
  {
   "cell_type": "code",
   "execution_count": 6,
   "metadata": {},
   "outputs": [],
   "source": [
    "# use lpg2 for now\n",
    "\n",
    "def Optimal(demands, facilities, f, savefile=None):\n",
    "    n = len(demands)\n",
    "    M = len(facilities)\n",
    "    \n",
    "    lx, ly, c = LPG(demands, facilities, f, savefile)\n",
    "    x, y = primal_rounding(lx, ly, c)\n",
    "    \n",
    "    cost = 0\n",
    "    ret_facilities = []\n",
    "    for i in range(n):\n",
    "        if x[i]:\n",
    "            ret_facilities.append(demands[i])\n",
    "    cost += f * len(ret_facilities)\n",
    "    \n",
    "    assignments = []\n",
    "    for j in range(n):\n",
    "        for i in range(M):\n",
    "            if y[i,j]:\n",
    "                assignments.append((demands[j], facilities[i]))\n",
    "                cost += c[i,j]\n",
    "                \n",
    "                break\n",
    "    return cost, facilities, assignments"
   ]
  },
  {
   "cell_type": "markdown",
   "metadata": {},
   "source": [
    "### Meyerson @ PredFl"
   ]
  },
  {
   "cell_type": "code",
   "execution_count": 7,
   "metadata": {},
   "outputs": [],
   "source": [
    "'''\n",
    "Run Meyerson's randomized algorithm on data, with facility cost f\n",
    "return: (set of open facilities, pairs of (facilities,points assigned to facs) and total cost of solution\n",
    "'''\n",
    "from collections import defaultdict\n",
    "debug = False\n",
    "\n",
    "def Meyerson(points, f):\n",
    "    global debug\n",
    "    open_facs = []\n",
    "    cost = 0\n",
    "    \n",
    "#     assg = defaultdict(list) # Contains tuples of the form (open fac, point connected to fac)\n",
    "    assg = [] # Contains tuples of the form (open fac, point connected to fac)\n",
    "    \n",
    "    if(debug): print(points)\n",
    "    \n",
    "    for p in points:\n",
    "        if(debug): print(\"Point : \", p)\n",
    "        fopen, delta = find_closest_f(open_facs, p)\n",
    "        if(debug): print(\"Closest facility :\", fopen)\n",
    "        if(fopen == -1):\n",
    "            delta = f\n",
    "        else:\n",
    "            delta = min(f, delta)\n",
    "            \n",
    "        if(np.random.binomial(1, delta/f) == 1):# coin toss succeeds\n",
    "            open_facs.append(p)\n",
    "            cost += f\n",
    "            assg.append((p, p))\n",
    "        else: # Facility did not open, connect instead\n",
    "            cost += delta\n",
    "            assg.append((p, open_facs[fopen]))\n",
    "            \n",
    "    return (cost, open_facs, assg)"
   ]
  },
  {
   "cell_type": "code",
   "execution_count": 8,
   "metadata": {
    "id": "yLpmiZDtJZoC"
   },
   "outputs": [],
   "source": [
    "'''\n",
    "Learning Augmented Meyerson\n",
    "data: list(point, prediction)\n",
    "'''\n",
    "\n",
    "def PredFL(points, preds, f):\n",
    "    open_facs = []\n",
    "    cost = 0\n",
    "#     assg = defaultdict(list) # Contains tuples of the form (open fac, point connected to fac)\n",
    "    assg = []\n",
    "    \n",
    "    for p, pred in zip(points,preds):\n",
    "        fopen, _ = find_closest_f(open_facs, p)\n",
    "        if(fopen == -1):\n",
    "            delta = f\n",
    "        else:\n",
    "            delta = min(f, dist(pred, open_facs[fopen]))\n",
    "        \n",
    "        if(np.random.binomial(1, delta/f) == 1):# coin toss succeeds\n",
    "            open_facs.append(pred)\n",
    "            cost += f + dist(p, pred)\n",
    "            assg.append((p, pred))\n",
    "        else: # Facility did not open, connect instead\n",
    "            opfac = open_facs[fopen]\n",
    "            cost += dist(p, opfac)\n",
    "            assg.append((p, opfac))\n",
    "            \n",
    "    return (cost, open_facs, assg)"
   ]
  },
  {
   "cell_type": "markdown",
   "metadata": {},
   "source": [
    "## Utilities"
   ]
  },
  {
   "cell_type": "markdown",
   "metadata": {},
   "source": [
    "### Predictions"
   ]
  },
  {
   "cell_type": "code",
   "execution_count": 193,
   "metadata": {},
   "outputs": [],
   "source": [
    "'''\n",
    "Gaussian Perturb Predictor\n",
    "'''\n",
    "def gaussian_perturb_predictor(assignments, percentage, std):\n",
    "    preds = []\n",
    "    for p, c in assignments:\n",
    "        np_p = np.asarray(p)\n",
    "        np_c = np.asarray(c)\n",
    "        \n",
    "        if (np.array_equal(np_c, np_p)) or (percentage == 0):\n",
    "            preds.append(np_c)\n",
    "            continue\n",
    "        \n",
    "        gaussian_perc = np.random.normal(percentage, std)\n",
    "        \n",
    "        gaussian_perc = max(0, gaussian_perc)\n",
    "        gaussian_perc = min(1, gaussian_perc)\n",
    "        \n",
    "        pred = np_c + gaussian_perc * (np_p - np_c)\n",
    "        \n",
    "        preds.append(pred)\n",
    "    return preds"
   ]
  },
  {
   "cell_type": "code",
   "execution_count": 194,
   "metadata": {},
   "outputs": [],
   "source": [
    "def random_perturb_predictor(assignments, percentage, std=0):\n",
    "    preds = []\n",
    "    for p, c in assignments:\n",
    "        np_p = np.asarray(p)\n",
    "        np_c = np.asarray(c)\n",
    "        \n",
    "        if (np.array_equal(np_c, np_p)) or (percentage == 0):\n",
    "            preds.append(np_c)\n",
    "            continue\n",
    "        \n",
    "        random_vec = np.random.choice([-1,1], (68,))\n",
    "        \n",
    "        pred = np_c + percentage * (np_p - np_c) * random_vec\n",
    "        \n",
    "        preds.append(pred)\n",
    "    return preds"
   ]
  },
  {
   "cell_type": "markdown",
   "metadata": {},
   "source": [
    "## US Census Data (http://archive.ics.uci.edu/ml/datasets/US+Census+Data+(1990)) [NeurIPS]"
   ]
  },
  {
   "cell_type": "code",
   "execution_count": 10,
   "metadata": {},
   "outputs": [],
   "source": [
    "import pandas as pd"
   ]
  },
  {
   "cell_type": "code",
   "execution_count": 11,
   "metadata": {},
   "outputs": [],
   "source": [
    "# Drop first column corresponding to id\n",
    "\n",
    "def us_split_batches(filename, batch_size, nrows=2e5, header=None):\n",
    "    df = pd.read_csv(filename, nrows=nrows, usecols=list(range(1,69)), header=header)\n",
    "    np_df = df.to_numpy()\n",
    "\n",
    "    return np.array_split(np_df, np_df.shape[0] // batch_size)\n",
    "#     return df\n"
   ]
  },
  {
   "cell_type": "markdown",
   "metadata": {},
   "source": [
    "### [1] Initialization"
   ]
  },
  {
   "cell_type": "code",
   "execution_count": 119,
   "metadata": {},
   "outputs": [],
   "source": [
    "def run_experiments(points, f, optimal_solution, predictor, predictor_params, std, avg_iterations=1):\n",
    "    opt_cost, opt_facs, opt_assgn = optimal_solution\n",
    "\n",
    "    pred_costs = []\n",
    "    \n",
    "    for param in predictor_params:\n",
    "        preds = predictor(opt_assgn, param, std)\n",
    "\n",
    "        avg_pred = 0\n",
    "        for _ in range(avg_iterations):\n",
    "            pred_cost, _, _ = PredFL(points, preds, f)\n",
    "            avg_pred += pred_cost\n",
    "\n",
    "            \n",
    "        avg_pred /= avg_iterations\n",
    "        pred_costs.append(avg_pred)\n",
    "    \n",
    "    return pred_costs"
   ]
  },
  {
   "cell_type": "code",
   "execution_count": 120,
   "metadata": {},
   "outputs": [],
   "source": [
    "def batches_experiments(batches, batches_number, f, generator, percentages, std, avg_iterations, optimal_solutions=None):\n",
    "    pred_costs = []\n",
    "\n",
    "    total_batches = len(batches)\n",
    "    batches_number = min(batches_number, total_batches)\n",
    "    \n",
    "    cnt = 1\n",
    "    for batch_id in range(batches_number):\n",
    "        print('[{0}]'.format(batch_id) , end=' ')\n",
    "        cnt += 1\n",
    "        \n",
    "        batch = batches[batch_id]\n",
    "        optimal_solution = optimal_solutions[batch_id]\n",
    "        \n",
    "        params = {\n",
    "            'points' : batch,\n",
    "            'f' : f,\n",
    "            'optimal_solution' : optimal_solution,\n",
    "            'predictor' : generator,\n",
    "            'predictor_params' : percentages,\n",
    "            'std' : std,\n",
    "            'avg_iterations' : avg_iterations,\n",
    "        }\n",
    "\n",
    "        print(\"RUN\", end=' ')\n",
    "        pred_cost = run_experiments(**params)\n",
    "        print(\"STOP\")\n",
    "\n",
    "        pred_costs.append(pred_cost)\n",
    "        \n",
    "    return pred_costs"
   ]
  },
  {
   "cell_type": "code",
   "execution_count": 121,
   "metadata": {},
   "outputs": [],
   "source": [
    "def calculate_cp(optimal_cost, costs):\n",
    "    return (np.asarray(costs) / optimal_cost)"
   ]
  },
  {
   "cell_type": "code",
   "execution_count": 122,
   "metadata": {},
   "outputs": [],
   "source": [
    "def simulated_costs(meyerson_cost, costs):\n",
    "    return np.minimum(costs, meyerson_cost)"
   ]
  },
  {
   "cell_type": "markdown",
   "metadata": {},
   "source": [
    "### [1.2] Split dataset"
   ]
  },
  {
   "cell_type": "code",
   "execution_count": 123,
   "metadata": {},
   "outputs": [],
   "source": [
    "us_batch_size = 1000\n",
    "\n",
    "us_batches = us_split_batches(\"uscensus20k.data\", us_batch_size)"
   ]
  },
  {
   "cell_type": "code",
   "execution_count": 124,
   "metadata": {},
   "outputs": [
    {
     "name": "stdout",
     "output_type": "stream",
     "text": [
      "# us census batches 200\n"
     ]
    }
   ],
   "source": [
    "print(\"# us census batches\", len(us_batches))"
   ]
  },
  {
   "cell_type": "markdown",
   "metadata": {},
   "source": [
    "### [2] Calculate optimal solutions"
   ]
  },
  {
   "cell_type": "code",
   "execution_count": 125,
   "metadata": {},
   "outputs": [],
   "source": [
    "us_batches_number = 20\n",
    "\n",
    "us_f = 100"
   ]
  },
  {
   "cell_type": "code",
   "execution_count": 19,
   "metadata": {},
   "outputs": [],
   "source": [
    "def get_n_solutions(batches, f, n):\n",
    "    optimal_solutions = []\n",
    "    for i in range(n):\n",
    "        print(i, end=' ')\n",
    "        optimal_solutions.append(Optimal(batches[i], batches[i], f))\n",
    "    return optimal_solutions"
   ]
  },
  {
   "cell_type": "code",
   "execution_count": 20,
   "metadata": {},
   "outputs": [],
   "source": [
    "# us_optimal_solutions = get_n_solutions(us_batches, us_f, us_batches_number)"
   ]
  },
  {
   "cell_type": "markdown",
   "metadata": {},
   "source": [
    "### [2.1] Save/Retrieve optimal solutions"
   ]
  },
  {
   "cell_type": "code",
   "execution_count": 21,
   "metadata": {},
   "outputs": [],
   "source": [
    "import pickle"
   ]
  },
  {
   "cell_type": "code",
   "execution_count": 22,
   "metadata": {},
   "outputs": [],
   "source": [
    "def save_solutions(optimal_solutions, name):\n",
    "     with open(name + '.pkl', 'wb') as f:\n",
    "            pickle.dump(optimal_solutions, f)\n",
    "\n",
    "def retrieve_solutions(name):\n",
    "    with open(name + '.pkl', 'rb') as f:\n",
    "        optimal_solutions = pickle.load(f)\n",
    "    return optimal_solutions"
   ]
  },
  {
   "cell_type": "code",
   "execution_count": 63,
   "metadata": {},
   "outputs": [],
   "source": [
    "# save_solutions(us_optimal_solutions, 'us_optimal_solutions_20')"
   ]
  },
  {
   "cell_type": "code",
   "execution_count": 25,
   "metadata": {},
   "outputs": [],
   "source": [
    "# us_optimal_solutions = retrieve_solutions('us_optimal_solutions_20')"
   ]
  },
  {
   "cell_type": "markdown",
   "metadata": {},
   "source": [
    "### [2.2] Get wcs batches"
   ]
  },
  {
   "cell_type": "code",
   "execution_count": 27,
   "metadata": {},
   "outputs": [],
   "source": [
    "def get_wcs(optimal_solution):\n",
    "    _, _, opt_assgn = optimal_solution\n",
    "    opt_assgn.sort(key=lambda x:dist(x[0],x[1]), reverse=True)\n",
    "    wcs_batch = [d[0] for d in opt_assgn]\n",
    "    \n",
    "    return np.asarray(wcs_batch)"
   ]
  },
  {
   "cell_type": "code",
   "execution_count": 28,
   "metadata": {},
   "outputs": [],
   "source": [
    "us_batches_wcs = []\n",
    "\n",
    "for optimal_solution in us_optimal_solutions:\n",
    "    us_batches_wcs.append(get_wcs(optimal_solution))"
   ]
  },
  {
   "cell_type": "code",
   "execution_count": 110,
   "metadata": {},
   "outputs": [],
   "source": [
    "# save_solutions(us_batches_wcs, 'us_batches_wcs')"
   ]
  },
  {
   "cell_type": "code",
   "execution_count": 27,
   "metadata": {},
   "outputs": [],
   "source": [
    "# us_batches_wcs = retrieve_solutions('us_batches_wcs')"
   ]
  },
  {
   "cell_type": "markdown",
   "metadata": {},
   "source": [
    "### [3] Experiments"
   ]
  },
  {
   "cell_type": "code",
   "execution_count": 131,
   "metadata": {},
   "outputs": [],
   "source": [
    "msrm_num = 12"
   ]
  },
  {
   "cell_type": "code",
   "execution_count": 180,
   "metadata": {},
   "outputs": [],
   "source": [
    "us_batches_number = 20\n",
    "\n",
    "us_avg_iterations = 20\n",
    "\n",
    "us_avg_percentage_iters = np.linspace(0,1.2,msrm_num)\n",
    "\n",
    "x_percentages = us_avg_percentage_iters\n",
    "x_batches = np.arange(0,us_batches_number,1)"
   ]
  },
  {
   "cell_type": "markdown",
   "metadata": {},
   "source": [
    "#### [3.1] Optimal Costs"
   ]
  },
  {
   "cell_type": "code",
   "execution_count": 181,
   "metadata": {},
   "outputs": [],
   "source": [
    "us_optimal_costs = [us_optimal_solutions[i][0] for i in range(us_batches_number)]\n",
    "us_avg_optimal = np.mean(us_optimal_costs)"
   ]
  },
  {
   "cell_type": "markdown",
   "metadata": {},
   "source": [
    "#### [3.2] Meyerson Costs"
   ]
  },
  {
   "cell_type": "code",
   "execution_count": 185,
   "metadata": {},
   "outputs": [
    {
     "name": "stdout",
     "output_type": "stream",
     "text": [
      "0 1 2 3 4 5 6 7 8 9 10 11 12 13 14 15 16 17 18 19 "
     ]
    }
   ],
   "source": [
    "us_meyerson_costs = []\n",
    "\n",
    "for i in range(us_batches_number):\n",
    "    print(i, end=' ')\n",
    "    us_batch_wcs = us_batches_wcs[i]\n",
    "    \n",
    "    avg_mey = 0\n",
    "    for j in range(us_avg_iterations):\n",
    "        mey, _, _ = Meyerson(us_batch_wcs, us_f)\n",
    "        avg_mey += mey\n",
    "    \n",
    "    us_meyerson_costs.append(avg_mey/us_avg_iterations)\n",
    "    "
   ]
  },
  {
   "cell_type": "code",
   "execution_count": null,
   "metadata": {},
   "outputs": [],
   "source": [
    "us_avg_meyerson = np.mean(us_meyerson_costs)"
   ]
  },
  {
   "cell_type": "code",
   "execution_count": 182,
   "metadata": {},
   "outputs": [],
   "source": [
    "# save_solutions(us_avg_meyerson, 'us_avg_meyerson_5')"
   ]
  },
  {
   "cell_type": "code",
   "execution_count": 128,
   "metadata": {},
   "outputs": [],
   "source": [
    "# save_solutions(us_avg_meyerson, 'us_avg_meyerson')"
   ]
  },
  {
   "cell_type": "code",
   "execution_count": 35,
   "metadata": {},
   "outputs": [],
   "source": [
    "# us_avg_meyerson = retrieve_solutions('us_avg_meyerson')"
   ]
  },
  {
   "cell_type": "markdown",
   "metadata": {},
   "source": [
    "#### [3.3] Percentage (std=0)"
   ]
  },
  {
   "cell_type": "code",
   "execution_count": null,
   "metadata": {},
   "outputs": [
    {
     "name": "stdout",
     "output_type": "stream",
     "text": [
      "[0] RUN STOP\n",
      "[1] RUN "
     ]
    }
   ],
   "source": [
    "%%time\n",
    "us_batches_avg_costs = batches_experiments(\n",
    "    us_batches_wcs, \n",
    "    us_batches_number, \n",
    "    us_f, \n",
    "    gaussian_perturb_predictor,\n",
    "    us_avg_percentage_iters,\n",
    "    0,\n",
    "    us_avg_iterations,\n",
    "    us_optimal_solutions\n",
    ")"
   ]
  },
  {
   "cell_type": "code",
   "execution_count": 56,
   "metadata": {},
   "outputs": [],
   "source": [
    "# save_solutions(us_batches_avg_costs, 'us_batches_avg_costs')"
   ]
  },
  {
   "cell_type": "code",
   "execution_count": 37,
   "metadata": {},
   "outputs": [],
   "source": [
    "# us_batches_avg_costs = retrieve_solutions('us_batches_avg_costs')"
   ]
  },
  {
   "cell_type": "code",
   "execution_count": 188,
   "metadata": {},
   "outputs": [],
   "source": [
    "us_batches_mean_costs_r = np.mean(us_batches_avg_costs, 0)"
   ]
  },
  {
   "cell_type": "code",
   "execution_count": 189,
   "metadata": {},
   "outputs": [],
   "source": [
    "us_batches_mean_costs = simulated_costs(us_avg_meyerson, us_batches_mean_costs_r)"
   ]
  },
  {
   "cell_type": "code",
   "execution_count": 190,
   "metadata": {},
   "outputs": [
    {
     "data": {
      "image/png": "[encoded data removed]",
      "text/plain": [
       "<Figure size 432x288 with 1 Axes>"
      ]
     },
     "metadata": {
      "needs_background": "light"
     },
     "output_type": "display_data"
    }
   ],
   "source": [
    "plt.plot(x_percentages, [us_avg_optimal] * msrm_num, 'k', label='Offline Optimal')\n",
    "plt.plot(x_percentages, [us_avg_meyerson] * msrm_num, 'b', label='Meyerson')\n",
    "plt.plot(x_percentages, us_batches_mean_costs, 'g', label='PredFL')\n",
    "\n",
    "plt.xlabel('% Perturbation')\n",
    "plt.ylabel('Avg Overall Cost')\n",
    "plt.ticklabel_format(axis=\"y\", style=\"sci\", scilimits=(0,0))\n",
    "plt.legend()\n",
    "plt.title(\"US Census Data - Perturb Predictor (std=0)\")\n",
    "\n",
    "plt.savefig(\"uscensus_avg_cost\")"
   ]
  },
  {
   "cell_type": "code",
   "execution_count": 191,
   "metadata": {},
   "outputs": [],
   "source": [
    "us_batches_mean_cp = calculate_cp(us_avg_optimal, us_batches_mean_costs)"
   ]
  },
  {
   "cell_type": "code",
   "execution_count": 192,
   "metadata": {},
   "outputs": [
    {
     "data": {
      "image/png": "[encoded data removed]",
      "text/plain": [
       "<Figure size 432x288 with 1 Axes>"
      ]
     },
     "metadata": {
      "needs_background": "light"
     },
     "output_type": "display_data"
    }
   ],
   "source": [
    "plt.plot(x_percentages, [us_avg_meyerson/us_avg_optimal] * msrm_num, 'b', label='Meyerson')\n",
    "plt.plot(x_percentages, us_batches_mean_cp, 'g', label='PredFL')\n",
    "\n",
    "plt.xlabel(r'$\\alpha$')\n",
    "plt.ylabel('Competitive Ratio')\n",
    "plt.ticklabel_format(axis=\"y\", style=\"sci\", scilimits=(0,0))\n",
    "plt.legend()\n",
    "plt.title(\"US Census Data - Perturb Predictor (std=0)\")\n",
    "\n",
    "plt.savefig(\"uscensus_avg_cp\")"
   ]
  },
  {
   "cell_type": "markdown",
   "metadata": {},
   "source": [
    "#### [3.4] Percentage (std=0.2)"
   ]
  },
  {
   "cell_type": "code",
   "execution_count": null,
   "metadata": {},
   "outputs": [
    {
     "name": "stdout",
     "output_type": "stream",
     "text": [
      "[0] RUN STOP\n",
      "[1] RUN STOP\n",
      "[2] RUN STOP\n",
      "[3] RUN STOP\n",
      "[4] RUN "
     ]
    }
   ],
   "source": [
    "%%time\n",
    "us_batches_avg_costs_02 = batches_experiments(\n",
    "    us_batches_wcs, \n",
    "    us_batches_number, \n",
    "    us_f, \n",
    "    gaussian_perturb_predictor,\n",
    "    us_avg_percentage_iters,\n",
    "    0.2,\n",
    "    us_avg_iterations,\n",
    "    us_optimal_solutions\n",
    ")"
   ]
  },
  {
   "cell_type": "code",
   "execution_count": 57,
   "metadata": {},
   "outputs": [],
   "source": [
    "# save_solutions(us_batches_avg_costs_02, 'us_batches_avg_costs_02')"
   ]
  },
  {
   "cell_type": "code",
   "execution_count": 104,
   "metadata": {},
   "outputs": [],
   "source": [
    "# us_batches_avg_costs_02 = retrieve_solutions('us_batches_avg_costs_02')"
   ]
  },
  {
   "cell_type": "code",
   "execution_count": 146,
   "metadata": {},
   "outputs": [],
   "source": [
    "us_batches_mean_costs_02_r = np.mean(us_batches_avg_costs_02, 0)"
   ]
  },
  {
   "cell_type": "code",
   "execution_count": 147,
   "metadata": {},
   "outputs": [],
   "source": [
    "us_batches_mean_costs_02 = simulated_costs(us_avg_meyerson, us_batches_mean_costs_02_r)"
   ]
  },
  {
   "cell_type": "code",
   "execution_count": 148,
   "metadata": {},
   "outputs": [
    {
     "data": {
      "image/png": "[encoded data removed]",
      "text/plain": [
       "<Figure size 432x288 with 1 Axes>"
      ]
     },
     "metadata": {
      "needs_background": "light"
     },
     "output_type": "display_data"
    }
   ],
   "source": [
    "plt.plot(x_percentages, [us_avg_optimal] * msrm_num, 'k', label='Offline Optimal')\n",
    "plt.plot(x_percentages, [us_avg_meyerson] * msrm_num, 'b', label='Meyerson')\n",
    "plt.plot(x_percentages, us_batches_mean_costs_02, 'g', label='PredFL')\n",
    "\n",
    "plt.xlabel(r'$\\alpha$')\n",
    "plt.ylabel('Avg Overall Cost')\n",
    "plt.ticklabel_format(axis=\"y\", style=\"sci\", scilimits=(0,0))\n",
    "plt.legend()\n",
    "plt.title(\"US Census Data - Perturb Predictor (std=0.2)\")\n",
    "\n",
    "plt.savefig(\"uscensus_avg_cost_02\")"
   ]
  },
  {
   "cell_type": "code",
   "execution_count": 149,
   "metadata": {},
   "outputs": [],
   "source": [
    "us_batches_mean_cp_02 = calculate_cp(us_avg_optimal, us_batches_mean_costs_02)"
   ]
  },
  {
   "cell_type": "code",
   "execution_count": 150,
   "metadata": {},
   "outputs": [
    {
     "data": {
      "image/png": "[encoded data removed]",
      "text/plain": [
       "<Figure size 432x288 with 1 Axes>"
      ]
     },
     "metadata": {
      "needs_background": "light"
     },
     "output_type": "display_data"
    }
   ],
   "source": [
    "plt.plot(x_percentages, [us_avg_meyerson/us_avg_optimal] * msrm_num, 'b', label='Meyerson')\n",
    "plt.plot(x_percentages, us_batches_mean_cp_02, 'g', label='PredFL')\n",
    "\n",
    "plt.xlabel(r'$\\alpha$')\n",
    "plt.ylabel('Competitive Ratio')\n",
    "plt.ticklabel_format(axis=\"y\", style=\"sci\", scilimits=(0,0))\n",
    "plt.legend()\n",
    "plt.title(\"US Census Data - Perturb Predictor (std=0.2)\")\n",
    "\n",
    "plt.savefig(\"uscensus_avg_cp_02\")"
   ]
  },
  {
   "cell_type": "markdown",
   "metadata": {},
   "source": [
    "#### [3.5] Percentage (std=0.4)"
   ]
  },
  {
   "cell_type": "code",
   "execution_count": 151,
   "metadata": {},
   "outputs": [
    {
     "name": "stdout",
     "output_type": "stream",
     "text": [
      "[0] RUN STOP\n",
      "[1] RUN STOP\n",
      "[2] RUN STOP\n",
      "[3] RUN STOP\n",
      "[4] RUN STOP\n",
      "CPU times: user 1h 2min 3s, sys: 8.85 s, total: 1h 2min 12s\n",
      "Wall time: 1h 1min 58s\n"
     ]
    }
   ],
   "source": [
    "%%time\n",
    "us_batches_avg_costs_04 = batches_experiments(\n",
    "    us_batches_wcs, \n",
    "    us_batches_number, \n",
    "    us_f, \n",
    "    gaussian_perturb_predictor,\n",
    "    us_avg_percentage_iters,\n",
    "    0.4,\n",
    "    us_avg_iterations,\n",
    "    us_optimal_solutions\n",
    ")"
   ]
  },
  {
   "cell_type": "code",
   "execution_count": 68,
   "metadata": {},
   "outputs": [],
   "source": [
    "# save_solutions(us_batches_avg_costs_04, 'us_batches_avg_costs_04')"
   ]
  },
  {
   "cell_type": "code",
   "execution_count": 97,
   "metadata": {},
   "outputs": [],
   "source": [
    "# us_batches_avg_costs_04 = retrieve_solutions('us_batches_avg_costs_04')"
   ]
  },
  {
   "cell_type": "code",
   "execution_count": 152,
   "metadata": {},
   "outputs": [],
   "source": [
    "us_batches_mean_costs_04_r = np.mean(us_batches_avg_costs_04, 0)"
   ]
  },
  {
   "cell_type": "code",
   "execution_count": 153,
   "metadata": {},
   "outputs": [],
   "source": [
    "us_batches_mean_costs_04 = simulated_costs(us_avg_meyerson, us_batches_mean_costs_04_r)"
   ]
  },
  {
   "cell_type": "code",
   "execution_count": 154,
   "metadata": {},
   "outputs": [
    {
     "data": {
      "image/png": "[encoded data removed]",
      "text/plain": [
       "<Figure size 432x288 with 1 Axes>"
      ]
     },
     "metadata": {
      "needs_background": "light"
     },
     "output_type": "display_data"
    }
   ],
   "source": [
    "plt.plot(x_percentages, [us_avg_optimal] * msrm_num, 'k', label='Offline Optimal')\n",
    "plt.plot(x_percentages, [us_avg_meyerson] * msrm_num, 'b', label='Meyerson')\n",
    "plt.plot(x_percentages, us_batches_mean_costs_04, 'g', label='PredFL')\n",
    "\n",
    "plt.xlabel(r'$\\alpha$')\n",
    "plt.ylabel('Avg Overall Cost')\n",
    "plt.ticklabel_format(axis=\"y\", style=\"sci\", scilimits=(0,0))\n",
    "plt.legend()\n",
    "plt.title(\"US Census Data - Perturb Predictor (std=0.4)\")\n",
    "\n",
    "plt.savefig(\"uscensus_avg_cost_04\")"
   ]
  },
  {
   "cell_type": "code",
   "execution_count": 155,
   "metadata": {},
   "outputs": [],
   "source": [
    "us_batches_mean_cp_04 = calculate_cp(us_avg_optimal, us_batches_mean_costs_04)"
   ]
  },
  {
   "cell_type": "code",
   "execution_count": 156,
   "metadata": {},
   "outputs": [
    {
     "data": {
      "image/png": "[encoded data removed]",
      "text/plain": [
       "<Figure size 432x288 with 1 Axes>"
      ]
     },
     "metadata": {
      "needs_background": "light"
     },
     "output_type": "display_data"
    }
   ],
   "source": [
    "plt.plot(x_percentages, [us_avg_meyerson/us_avg_optimal] * msrm_num, 'b', label='Meyerson')\n",
    "plt.plot(x_percentages, us_batches_mean_cp_04, 'g', label='PredFL')\n",
    "\n",
    "plt.xlabel(r'$\\alpha$')\n",
    "plt.ylabel('Competitive Ratio')\n",
    "plt.ticklabel_format(axis=\"y\", style=\"sci\", scilimits=(0,0))\n",
    "plt.legend()\n",
    "plt.title(\"US Census Data - Perturb Predictor (std=0.4)\")\n",
    "\n",
    "plt.savefig(\"uscensus_avg_cp_04\")"
   ]
  },
  {
   "cell_type": "markdown",
   "metadata": {},
   "source": [
    "#### [3.6] Performance over alpha & std"
   ]
  },
  {
   "cell_type": "code",
   "execution_count": 157,
   "metadata": {},
   "outputs": [],
   "source": [
    "std_number = 3\n",
    "std_iters = [0, 0.2, 0.4]\n",
    "\n",
    "std_cp = [\n",
    "    us_batches_mean_cp,\n",
    "    us_batches_mean_cp_02,\n",
    "    us_batches_mean_cp_04\n",
    "]"
   ]
  },
  {
   "cell_type": "code",
   "execution_count": 158,
   "metadata": {},
   "outputs": [
    {
     "data": {
      "image/png": "[encoded data removed]",
      "text/plain": [
       "<Figure size 432x288 with 1 Axes>"
      ]
     },
     "metadata": {
      "needs_background": "light"
     },
     "output_type": "display_data"
    }
   ],
   "source": [
    "# colors = ['r', 'y', 'c', 'm', 'green']\n",
    "colors = ['r', 'm', 'green']\n",
    "\n",
    "for i in range(std_number):\n",
    "    plt.plot(x_percentages, std_cp[i], colors[i], label='PredFL std: {0}'.format(round(std_iters[i],2)))\n",
    "plt.plot(x_percentages, [us_avg_meyerson/us_avg_optimal] * msrm_num, 'b', label='Meyerson')\n",
    "\n",
    "plt.xlabel(r'$\\alpha$')\n",
    "plt.ylabel('Competitive Ratio')\n",
    "plt.ticklabel_format(axis=\"y\", style=\"sci\", scilimits=(0,0))\n",
    "plt.legend()\n",
    "plt.title(\"US Census Data - Perturb Predictor\")\n",
    "\n",
    "plt.savefig(\"uscensus_cp_std\")"
   ]
  },
  {
   "cell_type": "code",
   "execution_count": null,
   "metadata": {},
   "outputs": [],
   "source": []
  },
  {
   "cell_type": "markdown",
   "metadata": {},
   "source": [
    "#### [3.7] Percentage over alpha (random_perturb_predictor)"
   ]
  },
  {
   "cell_type": "code",
   "execution_count": 175,
   "metadata": {},
   "outputs": [],
   "source": [
    "msrm_num = 12"
   ]
  },
  {
   "cell_type": "code",
   "execution_count": 165,
   "metadata": {},
   "outputs": [],
   "source": [
    "us_batches_number = 5\n",
    "\n",
    "us_avg_iterations = 20\n",
    "\n",
    "us_avg_percentage_iters = np.linspace(0,1.2,msrm_num)\n",
    "\n",
    "x_percentages = us_avg_percentage_iters\n",
    "x_batches = np.arange(0,us_batches_number,1)"
   ]
  },
  {
   "cell_type": "code",
   "execution_count": 166,
   "metadata": {},
   "outputs": [
    {
     "name": "stdout",
     "output_type": "stream",
     "text": [
      "[0] RUN STOP\n",
      "[1] RUN STOP\n",
      "[2] RUN STOP\n",
      "[3] RUN STOP\n",
      "[4] RUN STOP\n",
      "CPU times: user 1h 12min 5s, sys: 7.81 s, total: 1h 12min 12s\n",
      "Wall time: 1h 11min 59s\n"
     ]
    }
   ],
   "source": [
    "%%time\n",
    "us_batches_avg_random_costs = batches_experiments(\n",
    "    us_batches_wcs, \n",
    "    us_batches_number, \n",
    "    us_f, \n",
    "    random_perturb_predictor,\n",
    "    us_avg_percentage_iters,\n",
    "    0,\n",
    "    us_avg_iterations,\n",
    "    us_optimal_solutions\n",
    ")"
   ]
  },
  {
   "cell_type": "code",
   "execution_count": 56,
   "metadata": {},
   "outputs": [],
   "source": [
    "# save_solutions(us_batches_avg_costs, 'us_batches_avg_costs')"
   ]
  },
  {
   "cell_type": "code",
   "execution_count": 37,
   "metadata": {},
   "outputs": [],
   "source": [
    "# us_batches_avg_costs = retrieve_solutions('us_batches_avg_costs')"
   ]
  },
  {
   "cell_type": "code",
   "execution_count": 171,
   "metadata": {},
   "outputs": [],
   "source": [
    "us_batches_mean_random_costs_r = np.mean(us_batches_avg_random_costs, 0)"
   ]
  },
  {
   "cell_type": "code",
   "execution_count": 172,
   "metadata": {},
   "outputs": [],
   "source": [
    "us_batches_mean_random_costs = simulated_costs(us_avg_meyerson, us_batches_mean_random_costs_r)"
   ]
  },
  {
   "cell_type": "code",
   "execution_count": 176,
   "metadata": {},
   "outputs": [
    {
     "data": {
      "image/png": "[encoded data removed]",
      "text/plain": [
       "<Figure size 432x288 with 1 Axes>"
      ]
     },
     "metadata": {
      "needs_background": "light"
     },
     "output_type": "display_data"
    }
   ],
   "source": [
    "plt.plot(x_percentages, [us_avg_optimal] * msrm_num, 'k', label='Offline Optimal')\n",
    "plt.plot(x_percentages, [us_avg_meyerson] * msrm_num, 'b', label='Meyerson')\n",
    "plt.plot(x_percentages, us_batches_mean_random_costs, 'g', label='PredFL')\n",
    "\n",
    "plt.xlabel('% Perturbation')\n",
    "plt.ylabel('Avg Overall Cost')\n",
    "plt.ticklabel_format(axis=\"y\", style=\"sci\", scilimits=(0,0))\n",
    "plt.legend()\n",
    "plt.title(\"US Census Data - Rnadom Perturb Predictor (std=0.2)\")\n",
    "\n",
    "plt.savefig(\"uscensus_avg_random_cost\")"
   ]
  },
  {
   "cell_type": "code",
   "execution_count": 177,
   "metadata": {},
   "outputs": [],
   "source": [
    "us_batches_mean_random_cp = calculate_cp(us_avg_optimal, us_batches_mean_random_costs)"
   ]
  },
  {
   "cell_type": "code",
   "execution_count": 178,
   "metadata": {},
   "outputs": [
    {
     "data": {
      "image/png": "[encoded data removed]",
      "text/plain": [
       "<Figure size 432x288 with 1 Axes>"
      ]
     },
     "metadata": {
      "needs_background": "light"
     },
     "output_type": "display_data"
    }
   ],
   "source": [
    "plt.plot(x_percentages, [us_avg_meyerson/us_avg_optimal] * msrm_num, 'b', label='Meyerson')\n",
    "plt.plot(x_percentages, us_batches_mean_random_cp, 'g', label='PredFL')\n",
    "\n",
    "plt.xlabel(r'$\\alpha$')\n",
    "plt.ylabel('Competitive Ratio')\n",
    "plt.ticklabel_format(axis=\"y\", style=\"sci\", scilimits=(0,0))\n",
    "plt.legend()\n",
    "plt.title(\"US Census Data - Random Perturb Predictor (std=0.2)\")\n",
    "\n",
    "plt.savefig(\"uscensus_avg_random_cp\")"
   ]
  },
  {
   "cell_type": "code",
   "execution_count": null,
   "metadata": {},
   "outputs": [],
   "source": []
  }
 ],
 "metadata": {
  "colab": {
   "name": "facility_loc.ipynb",
   "provenance": []
  },
  "environment": {
   "name": "common-cpu.m69",
   "type": "gcloud",
   "uri": "gcr.io/deeplearning-platform-release/base-cpu:m69"
  },
  "kernelspec": {
   "display_name": "Python 3",
   "language": "python",
   "name": "python3"
  },
  "language_info": {
   "codemirror_mode": {
    "name": "ipython",
    "version": 3
   },
   "file_extension": ".py",
   "mimetype": "text/x-python",
   "name": "python",
   "nbconvert_exporter": "python",
   "pygments_lexer": "ipython3",
   "version": "3.7.10"
  },
  "toc": {
   "base_numbering": 1,
   "nav_menu": {},
   "number_sections": true,
   "sideBar": true,
   "skip_h1_title": false,
   "title_cell": "Table of Contents",
   "title_sidebar": "Contents",
   "toc_cell": false,
   "toc_position": {
    "height": "calc(100% - 180px)",
    "left": "10px",
    "top": "150px",
    "width": "256px"
   },
   "toc_section_display": true,
   "toc_window_display": true
  }
 },
 "nbformat": 4,
 "nbformat_minor": 4
}
