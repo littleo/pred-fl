{
 "cells": [
  {
   "cell_type": "markdown",
   "metadata": {},
   "source": [
    "## Preliminaries"
   ]
  },
  {
   "cell_type": "code",
   "execution_count": 1,
   "metadata": {},
   "outputs": [
    {
     "name": "stdout",
     "output_type": "stream",
     "text": [
      "Requirement already satisfied: gurobipy in /opt/conda/lib/python3.7/site-packages (9.1.2)\n",
      "Note: you may need to restart the kernel to use updated packages.\n"
     ]
    }
   ],
   "source": [
    "%pip install gurobipy"
   ]
  },
  {
   "cell_type": "code",
   "execution_count": 1,
   "metadata": {},
   "outputs": [],
   "source": [
    "import numpy as np\n",
    "import math\n",
    "\n",
    "import matplotlib.pyplot as plt\n",
    "import matplotlib.pylab as pl\n",
    "import matplotlib.gridspec as gridspec\n",
    "\n",
    "import gurobipy as gp\n",
    "from gurobipy import GRB"
   ]
  },
  {
   "cell_type": "code",
   "execution_count": 2,
   "metadata": {},
   "outputs": [],
   "source": [
    "'''Return Euclidean distance from a to b'''\n",
    "def dist(a, b):\n",
    "#     return math.sqrt(sum([(i-j)**2 for i,j in zip(a,b)]))\n",
    "    return math.sqrt((a[0]-b[0])**2 + (a[1]-b[1])**2)\n",
    "\n",
    "'''Return closest facility to p from set opens.\n",
    "   return -1 if opens is empty\n",
    "'''\n",
    "def find_closest_f(opens, p):\n",
    "    if not opens: # No facility has opened yet\n",
    "        return (-1,0)\n",
    "    dists = list(map(lambda x: dist(x,p), opens))\n",
    "    idx = np.argmin(dists)\n",
    "    return (idx, dists[idx])"
   ]
  },
  {
   "cell_type": "code",
   "execution_count": 3,
   "metadata": {},
   "outputs": [],
   "source": [
    "'''\n",
    "Generates uniform random points on the grid\n",
    "'''\n",
    "def uniform_random_points(n, MIN=1, MAX=20):\n",
    "    points = []\n",
    "    for _ in range(n):\n",
    "        x, y = np.random.randint(MIN, MAX), np.random.randint(MIN, MAX)\n",
    "        points.append((x,y))\n",
    "    return points"
   ]
  },
  {
   "cell_type": "markdown",
   "metadata": {},
   "source": [
    "## Solvers (Optimal, Meyerson, PredFL)"
   ]
  },
  {
   "cell_type": "markdown",
   "metadata": {},
   "source": [
    "### Optimal"
   ]
  },
  {
   "cell_type": "code",
   "execution_count": 4,
   "metadata": {},
   "outputs": [],
   "source": [
    "from itertools import product\n",
    "\n",
    "def LPG(customers, facilities, f, savefile=None):\n",
    "    num_customers = len(customers)\n",
    "    num_facilities = len(facilities)\n",
    "    cartesian_prod = list(product(range(num_customers), range(num_facilities)))\n",
    "\n",
    "    # Compute cost\n",
    "    setup_cost = [f] * num_facilities\n",
    "    shipping_cost = {(c,f): dist(customers[c], facilities[f]) for c, f in cartesian_prod}\n",
    "    \n",
    "#     print(\"Initialize Model\")\n",
    "    \n",
    "    m = gp.Model('facility_location')\n",
    "    m.Params.LogToConsole = 0\n",
    "    m.Params.Method = 1\n",
    "\n",
    "    select = m.addVars(num_facilities, lb=0, vtype=GRB.CONTINUOUS, name='Select')\n",
    "    assign = m.addVars(cartesian_prod, lb=0, vtype=GRB.CONTINUOUS, name='Assign')\n",
    "\n",
    "    m.addConstrs((assign[(c,f)] <= select[f] for c,f in cartesian_prod), name='Setup2ship')\n",
    "    m.addConstrs((gp.quicksum(assign[(c,f)] for f in range(num_facilities)) == 1 for c in range(num_customers)), name='Demand')\n",
    "\n",
    "    m.setObjective(select.prod(setup_cost)+assign.prod(shipping_cost), GRB.MINIMIZE)\n",
    "    \n",
    "#     print(\"Optimize Model\")\n",
    "\n",
    "    m.optimize()\n",
    "    \n",
    "    if savefile:\n",
    "        m.write(\"{0}.sol\".format(savefile))\n",
    "    \n",
    "    # Retrieve Solution \n",
    "    \n",
    "    n = num_customers\n",
    "    M = num_facilities\n",
    "    \n",
    "    c = np.array(\n",
    "        [\n",
    "            [dist(facilities[i], customers[j]) for j in range(n)]\n",
    "            for i in range(M)\n",
    "        ]\n",
    "    )\n",
    "    \n",
    "    ret_x = np.array([ select[i].x for i in range(M)])\n",
    "    # y[i,j] facility i connects with demand j\n",
    "    ret_y = np.array(\n",
    "        [\n",
    "            [assign[(j,i)].x for j in range(n)]\n",
    "            for i in range(M)\n",
    "        ]\n",
    "    )\n",
    "\n",
    "    return ret_x, ret_y, c"
   ]
  },
  {
   "cell_type": "markdown",
   "metadata": {},
   "source": [
    "#### Rounding"
   ]
  },
  {
   "cell_type": "code",
   "execution_count": 5,
   "metadata": {},
   "outputs": [],
   "source": [
    "def primal_rounding(x, y, c):\n",
    "    # x: 1*n, y: n*n\n",
    "    n = x.size\n",
    "    #### ----- filtering ------- ######\n",
    "    c_bar = np.array([ c[:,j] @ y[:,j] for j in range(n)])\n",
    "    \n",
    "    # S_j sets\n",
    "    S = []\n",
    "    S_l = []\n",
    "    # for each demand j: Sj = facilities where c[i,j] < 2c_bar[j]\n",
    "    for j in range(n):\n",
    "        cand = []\n",
    "        for i in range(n):\n",
    "            if c[i,j] <= c_bar[j]: cand.append(i)\n",
    "        S.append(set(cand))\n",
    "        S_l.append(cand)\n",
    "    \n",
    "    y_bar = np.zeros((n,n))\n",
    "    for i in range(n):\n",
    "        for j in range(n):\n",
    "            if i in S[j]:\n",
    "                # maybe change that later\n",
    "                y_bar[i,j] = y[i,j] / np.sum([y[i,j] for i in S_l[j]])\n",
    "                \n",
    "    x_bar = np.minimum(2 * x, 1)\n",
    "            \n",
    "    #### ----- rounding ------- ######\n",
    "    xx = np.zeros(n)\n",
    "    yy = np.zeros((n,n))\n",
    "    \n",
    "    unassigned = np.array([True] * n)\n",
    "    cnt = 0\n",
    "    while(cnt < n):\n",
    "        # find min unassigned\n",
    "        c_min = np.inf\n",
    "        c_idx = 0\n",
    "        for j in range(n):\n",
    "            if unassigned[j] and (c_bar[j] < c_min):\n",
    "                c_min = c_bar[j]\n",
    "                c_idx = j\n",
    "        \n",
    "        unassigned[c_idx] = False\n",
    "        f_idx = S_l[c_idx][0]\n",
    "        \n",
    "        # open facility\n",
    "        xx[f_idx] = 1\n",
    "        \n",
    "        # assign demand to facility\n",
    "        yy[f_idx, c_idx] = 1\n",
    "        cnt += 1\n",
    "        \n",
    "        for j in range(n):\n",
    "            if (j != c_idx) and (unassigned[j]):\n",
    "                if (S[c_idx].intersection(S[j])):\n",
    "                    unassigned[j] = False\n",
    "                    \n",
    "                    yy[f_idx, j] = 1\n",
    "                    cnt += 1\n",
    "    return xx,yy"
   ]
  },
  {
   "cell_type": "code",
   "execution_count": 6,
   "metadata": {},
   "outputs": [],
   "source": [
    "# use lpg2 for now\n",
    "\n",
    "def Optimal(demands, facilities, f, savefile=None):\n",
    "    n = len(demands)\n",
    "    M = len(facilities)\n",
    "    \n",
    "    lx, ly, c = LPG(demands, facilities, f, savefile)\n",
    "    x, y = primal_rounding(lx, ly, c)\n",
    "    \n",
    "    cost = 0\n",
    "    ret_facilities = []\n",
    "    for i in range(n):\n",
    "        if x[i]:\n",
    "            ret_facilities.append(demands[i])\n",
    "    cost += f * len(ret_facilities)\n",
    "    \n",
    "    assignments = []\n",
    "    for j in range(n):\n",
    "        for i in range(M):\n",
    "            if y[i,j]:\n",
    "                assignments.append((demands[j], facilities[i]))\n",
    "                cost += c[i,j]\n",
    "                \n",
    "                break\n",
    "    return cost, facilities, assignments"
   ]
  },
  {
   "cell_type": "markdown",
   "metadata": {},
   "source": [
    "### Meyerson @ PredFl"
   ]
  },
  {
   "cell_type": "code",
   "execution_count": 7,
   "metadata": {},
   "outputs": [],
   "source": [
    "'''\n",
    "Run Meyerson's randomized algorithm on data, with facility cost f\n",
    "return: (set of open facilities, pairs of (facilities,points assigned to facs) and total cost of solution\n",
    "'''\n",
    "from collections import defaultdict\n",
    "debug = False\n",
    "\n",
    "def Meyerson(points, f):\n",
    "    global debug\n",
    "    open_facs = []\n",
    "    cost = 0\n",
    "    \n",
    "#     assg = defaultdict(list) # Contains tuples of the form (open fac, point connected to fac)\n",
    "    assg = [] # Contains tuples of the form (open fac, point connected to fac)\n",
    "    \n",
    "    if(debug): print(points)\n",
    "    \n",
    "    for p in points:\n",
    "        if(debug): print(\"Point : \", p)\n",
    "        fopen, delta = find_closest_f(open_facs, p)\n",
    "        if(debug): print(\"Closest facility :\", fopen)\n",
    "        if(fopen == -1):\n",
    "            delta = f\n",
    "        else:\n",
    "            delta = min(f, delta)\n",
    "            \n",
    "        if(np.random.binomial(1, delta/f) == 1):# coin toss succeeds\n",
    "            open_facs.append(p)\n",
    "            cost += f\n",
    "            assg.append((p, p))\n",
    "        else: # Facility did not open, connect instead\n",
    "            cost += delta\n",
    "            assg.append((p, open_facs[fopen]))\n",
    "            \n",
    "    return (cost, open_facs, assg)"
   ]
  },
  {
   "cell_type": "code",
   "execution_count": 8,
   "metadata": {
    "id": "yLpmiZDtJZoC"
   },
   "outputs": [],
   "source": [
    "'''\n",
    "Learning Augmented Meyerson\n",
    "data: list(point, prediction)\n",
    "'''\n",
    "\n",
    "def PredFL(points, preds, f):\n",
    "    open_facs = []\n",
    "    cost = 0\n",
    "#     assg = defaultdict(list) # Contains tuples of the form (open fac, point connected to fac)\n",
    "    assg = []\n",
    "    \n",
    "    for p, pred in zip(points,preds):\n",
    "        fopen, _ = find_closest_f(open_facs, p)\n",
    "        if(fopen == -1):\n",
    "            delta = f\n",
    "        else:\n",
    "            delta = min(f, dist(pred, open_facs[fopen]))\n",
    "        \n",
    "        if(np.random.binomial(1, delta/f) == 1):# coin toss succeeds\n",
    "            open_facs.append(pred)\n",
    "            cost += f + dist(p, pred)\n",
    "            assg.append((p, pred))\n",
    "        else: # Facility did not open, connect instead\n",
    "            opfac = open_facs[fopen]\n",
    "            cost += dist(p, opfac)\n",
    "            assg.append((p, opfac))\n",
    "            \n",
    "    return (cost, open_facs, assg)"
   ]
  },
  {
   "cell_type": "markdown",
   "metadata": {},
   "source": [
    "## Utilities"
   ]
  },
  {
   "cell_type": "markdown",
   "metadata": {},
   "source": [
    "### Plot solution"
   ]
  },
  {
   "cell_type": "code",
   "execution_count": 360,
   "metadata": {},
   "outputs": [],
   "source": [
    "def plot_solution(assignments, title=None, figsize=None):\n",
    "    if figsize:\n",
    "        plt.subplots(figsize=figsize)\n",
    "    for d,c in assignments:\n",
    "#         print(d,c)\n",
    "        plt.plot([d[0],c[0]], [d[1],c[1]], '-o')\n",
    "    if title:\n",
    "        plt.title(title)\n",
    "    \n",
    "#     plt.show()"
   ]
  },
  {
   "cell_type": "markdown",
   "metadata": {},
   "source": [
    "### Predictions"
   ]
  },
  {
   "cell_type": "code",
   "execution_count": 124,
   "metadata": {},
   "outputs": [],
   "source": [
    "def alpha_near(p, c, alpha):\n",
    "    if (p == c) or (alpha == 0):\n",
    "        return c\n",
    "\n",
    "    p_x, p_y = p\n",
    "    c_x, c_y = c\n",
    "    \n",
    "    if (p_x == c_x):\n",
    "        # Avoid division by zero\n",
    "        return (c_x, c_y + (p_y-c_y) * alpha)\n",
    "    \n",
    "    slope = (p_y - c_y)/(p_x - c_x)\n",
    "    d = dist(p,c)\n",
    "    if(p_x < c_x):\n",
    "        alpha_x = c_x - (alpha * d / math.sqrt(slope ** 2 + 1))\n",
    "    else:\n",
    "        alpha_x = c_x + (alpha * d / math.sqrt(slope ** 2 + 1))\n",
    "    \n",
    "    alpha_y = c_y + slope * (alpha_x - c_x)\n",
    "    \n",
    "    return (alpha_x, alpha_y)"
   ]
  },
  {
   "cell_type": "code",
   "execution_count": 230,
   "metadata": {},
   "outputs": [],
   "source": [
    "def alpha_predictor(assignments, alpha):\n",
    "    preds = []\n",
    "    for p, c in assignments:\n",
    "        preds.append(alpha_near(p, c, alpha))\n",
    "    return preds"
   ]
  },
  {
   "cell_type": "code",
   "execution_count": 144,
   "metadata": {},
   "outputs": [],
   "source": [
    "def alpha_gaussian_predictor(assignments, alpha, std):\n",
    "    preds = []\n",
    "    for p, c in assignments:\n",
    "        g_alpha = np.random.normal(alpha, std)\n",
    "        \n",
    "        g_alpha = np.absolute(g_alpha)\n",
    "        \n",
    "        pred = alpha_near(p, c, g_alpha)\n",
    "        preds.append(pred)\n",
    "    return preds"
   ]
  },
  {
   "cell_type": "code",
   "execution_count": 126,
   "metadata": {},
   "outputs": [],
   "source": [
    "def alpha_gaussian_predictor_truncated(assignments, alpha, std):\n",
    "    preds = []\n",
    "    for p, c in assignments:\n",
    "        g_alpha = np.random.normal(alpha, std)\n",
    "        \n",
    "        g_alpha = min(g_alpha,1)\n",
    "        g_alpha = max(g_alpha,0)\n",
    "            \n",
    "        preds.append(alpha_near(p, c, g_alpha))\n",
    "    return preds"
   ]
  },
  {
   "cell_type": "code",
   "execution_count": 332,
   "metadata": {},
   "outputs": [],
   "source": [
    "def choice():\n",
    "    if np.random.rand() > 0.5:\n",
    "        return 1\n",
    "    else:\n",
    "        return -1\n",
    "\n",
    "def random_alpha_near(p, c, alpha):\n",
    "    if (p == c) or (alpha == 0):\n",
    "        return c\n",
    "\n",
    "    p_x, p_y = p\n",
    "    c_x, c_y = c\n",
    "    \n",
    "    if (p_x == c_x):\n",
    "        # Avoid division by zero\n",
    "        return (c_x, c_y + (p_y-c_y) * alpha * choice())\n",
    "    \n",
    "    slope = (p_y - c_y)/(p_x - c_x)\n",
    "    d = dist(p,c)\n",
    "    if(p_x < c_x):\n",
    "        alpha_x = c_x - (alpha * d / math.sqrt(slope ** 2 + 1)) * choice()\n",
    "    else:\n",
    "        alpha_x = c_x + (alpha * d / math.sqrt(slope ** 2 + 1)) * choice()\n",
    "    \n",
    "    alpha_y = c_y + slope * (alpha_x - c_x) * choice()\n",
    "    \n",
    "    return (alpha_x, alpha_y)\n",
    "\n",
    "def random_alpha_predictor(assignments, alpha):\n",
    "    preds = []\n",
    "    for p, c in assignments:\n",
    "        preds.append(random_alpha_near(p, c, alpha))\n",
    "    return preds"
   ]
  },
  {
   "cell_type": "markdown",
   "metadata": {},
   "source": [
    "## Pre-Experiments"
   ]
  },
  {
   "cell_type": "markdown",
   "metadata": {},
   "source": [
    "### Optimal Solution"
   ]
  },
  {
   "cell_type": "code",
   "execution_count": 11,
   "metadata": {},
   "outputs": [],
   "source": [
    "n = 100\n",
    "MIN = 0\n",
    "MAX = 1000\n",
    "\n",
    "f = 500\n",
    "\n",
    "points = uniform_random_points(n, MIN, MAX)"
   ]
  },
  {
   "cell_type": "code",
   "execution_count": 12,
   "metadata": {},
   "outputs": [
    {
     "name": "stdout",
     "output_type": "stream",
     "text": [
      "Academic license - for non-commercial use only - expires 2021-07-16\n",
      "Using license file /home/jupyter/gurobi.lic\n",
      "CPU times: user 351 ms, sys: 5.06 ms, total: 356 ms\n",
      "Wall time: 357 ms\n"
     ]
    },
    {
     "data": {
      "image/png": "[encoded data removed]",
      "text/plain": [
       "<Figure size 432x288 with 1 Axes>"
      ]
     },
     "metadata": {
      "needs_background": "light"
     },
     "output_type": "display_data"
    }
   ],
   "source": [
    "%%time\n",
    "opt_cost, opt_facs, opt_assgn = Optimal(points, points, f)\n",
    "plot_solution(opt_assgn, r'Cost: ' + str(opt_cost))"
   ]
  },
  {
   "cell_type": "markdown",
   "metadata": {},
   "source": [
    "## Randomly generated data"
   ]
  },
  {
   "cell_type": "code",
   "execution_count": 239,
   "metadata": {},
   "outputs": [],
   "source": [
    "def run_experiments(points, f, optimal_solution, predictor, predictor_params, avg_iterations):\n",
    "    opt_cost, opt_facs, opt_assgn = optimal_solution\n",
    "\n",
    "    pred_costs = []\n",
    "    \n",
    "    for param in predictor_params:\n",
    "        preds = predictor(opt_assgn, param)\n",
    "\n",
    "        avg_pred = 0\n",
    "        for _ in range(avg_iterations):\n",
    "            pred_cost, pred_facs, pred_assgn = PredFL(points, preds, f)\n",
    "            \n",
    "            avg_pred += pred_cost\n",
    "        \n",
    "        avg_pred /= avg_iterations\n",
    "        pred_costs.append(avg_pred)\n",
    "    \n",
    "    return pred_costs"
   ]
  },
  {
   "cell_type": "code",
   "execution_count": 14,
   "metadata": {},
   "outputs": [],
   "source": [
    "def calculate_cp(optimal_cost, costs):\n",
    "    return (np.asarray(costs) / optimal_cost)"
   ]
  },
  {
   "cell_type": "code",
   "execution_count": 15,
   "metadata": {},
   "outputs": [],
   "source": [
    "def simulated_costs(meyerson_cost, costs):\n",
    "    return np.minimum(costs, meyerson_cost)"
   ]
  },
  {
   "cell_type": "markdown",
   "metadata": {},
   "source": [
    "### [1] Generate Uniform Points"
   ]
  },
  {
   "cell_type": "code",
   "execution_count": 16,
   "metadata": {},
   "outputs": [],
   "source": [
    "'''\n",
    "Generate 3000 random points over 1e6 x 1e6 grid and calculate the optimal solution\n",
    "'''\n",
    "\n",
    "n_uniform = 2000\n",
    "MIN = 1\n",
    "MAX = 1e6\n",
    "\n",
    "f_diameter = math.sqrt(2 * (MAX-MIN)**2) // 2 # half of the diameter\n",
    "\n",
    "uniform_data = uniform_random_points(n_uniform, MIN, MAX)"
   ]
  },
  {
   "cell_type": "markdown",
   "metadata": {},
   "source": [
    "### [2] Optimal Solution"
   ]
  },
  {
   "cell_type": "code",
   "execution_count": 31,
   "metadata": {},
   "outputs": [
    {
     "name": "stdout",
     "output_type": "stream",
     "text": [
      "CPU times: user 3min 41s, sys: 4.41 s, total: 3min 46s\n",
      "Wall time: 3min 45s\n"
     ]
    }
   ],
   "source": [
    "%%time\n",
    "uniform_solution = Optimal(uniform_data, uniform_data, f_diameter)\n",
    "\n",
    "plot_solution(uniform_solution[2], \"Cost:\" + str(uniform_solution[0]))"
   ]
  },
  {
   "cell_type": "markdown",
   "metadata": {},
   "source": [
    "#### [2.1] Save/Retrieve solution"
   ]
  },
  {
   "cell_type": "code",
   "execution_count": 19,
   "metadata": {},
   "outputs": [],
   "source": [
    "import pickle"
   ]
  },
  {
   "cell_type": "code",
   "execution_count": 20,
   "metadata": {},
   "outputs": [],
   "source": [
    "def save_solutions(optimal_solutions, name):\n",
    "     with open(name + '.pkl', 'wb') as f:\n",
    "            pickle.dump(optimal_solutions, f)\n",
    "\n",
    "def retrieve_solutions(name):\n",
    "    with open(name + '.pkl', 'rb') as f:\n",
    "        optimal_solutions = pickle.load(f)\n",
    "    return optimal_solutions"
   ]
  },
  {
   "cell_type": "code",
   "execution_count": 16,
   "metadata": {},
   "outputs": [],
   "source": [
    "# save_solutions(uniform_solution, 'uniform_solution')"
   ]
  },
  {
   "cell_type": "code",
   "execution_count": 23,
   "metadata": {},
   "outputs": [],
   "source": [
    "# uniform_solution = retrieve_solutions('uniform_solution')"
   ]
  },
  {
   "cell_type": "code",
   "execution_count": 24,
   "metadata": {},
   "outputs": [],
   "source": [
    "# uniform_optimal_cost, uniform_optimal_facilities, uniform_optimal_assgn = uniform_solution"
   ]
  },
  {
   "cell_type": "markdown",
   "metadata": {},
   "source": [
    "#### [2.2] Get worst case scenario"
   ]
  },
  {
   "cell_type": "code",
   "execution_count": 25,
   "metadata": {},
   "outputs": [],
   "source": [
    "def get_wcs(optimal_solution):\n",
    "    _, _, opt_assgn = optimal_solution\n",
    "    opt_assgn.sort(key=lambda x:dist(x[0],x[1]), reverse=True)\n",
    "    wcs_batch = [d[0] for d in opt_assgn]\n",
    "    \n",
    "    return np.asarray(wcs_batch)"
   ]
  },
  {
   "cell_type": "code",
   "execution_count": 26,
   "metadata": {},
   "outputs": [],
   "source": [
    "uniform_wcs = get_wcs(uniform_solution)"
   ]
  },
  {
   "cell_type": "markdown",
   "metadata": {},
   "source": [
    "#### [2.3] Meyerson Solution"
   ]
  },
  {
   "cell_type": "code",
   "execution_count": 27,
   "metadata": {},
   "outputs": [],
   "source": [
    "uniform_avg_iterations = 200"
   ]
  },
  {
   "cell_type": "code",
   "execution_count": null,
   "metadata": {},
   "outputs": [],
   "source": [
    "uniform_meyerson_cost = 0\n",
    "for j in range(uniform_avg_iterations):\n",
    "    print(j, end=' ')\n",
    "    mey, _, _ = Meyerson(uniform_wcs, f_diameter)\n",
    "    uniform_meyerson_cost += mey\n",
    "    \n",
    "uniform_meyerson_cost /= uniform_avg_iterations"
   ]
  },
  {
   "cell_type": "code",
   "execution_count": 23,
   "metadata": {},
   "outputs": [],
   "source": [
    "# save_solutions(uniform_meyerson_cost, 'uniform_meyerson_cost')"
   ]
  },
  {
   "cell_type": "code",
   "execution_count": 29,
   "metadata": {},
   "outputs": [],
   "source": [
    "# uniform_meyerson_cost = retrieve_solutions('uniform_meyerson_cost')"
   ]
  },
  {
   "cell_type": "markdown",
   "metadata": {},
   "source": [
    "### [3] Experiments"
   ]
  },
  {
   "cell_type": "code",
   "execution_count": 25,
   "metadata": {},
   "outputs": [],
   "source": [
    "# measurements number\n",
    "msrm_num = 20"
   ]
  },
  {
   "cell_type": "markdown",
   "metadata": {},
   "source": [
    "#### [3.1] Performance over alpha"
   ]
  },
  {
   "cell_type": "code",
   "execution_count": 114,
   "metadata": {},
   "outputs": [],
   "source": [
    "alpha_iters = np.linspace(0,1.2,msrm_num)\n",
    "\n",
    "params = {\n",
    "    'points' : uniform_wcs, \n",
    "    'f' : f_diameter,\n",
    "    'optimal_solution' : uniform_solution,\n",
    "    'predictor' : alpha_predictor,\n",
    "    'predictor_params' : alpha_iters,\n",
    "    'avg_iterations' : uniform_avg_iterations,\n",
    "}\n"
   ]
  },
  {
   "cell_type": "code",
   "execution_count": 115,
   "metadata": {},
   "outputs": [
    {
     "name": "stdout",
     "output_type": "stream",
     "text": [
      "CPU times: user 22min 3s, sys: 43.5 s, total: 22min 47s\n",
      "Wall time: 21min 18s\n"
     ]
    }
   ],
   "source": [
    "%%time\n",
    "uniform_alpha_r = run_experiments(**params)"
   ]
  },
  {
   "cell_type": "code",
   "execution_count": 119,
   "metadata": {},
   "outputs": [],
   "source": [
    "uniform_alpha = simulated_costs(uniform_meyerson_cost, uniform_alpha_r)"
   ]
  },
  {
   "cell_type": "code",
   "execution_count": 120,
   "metadata": {},
   "outputs": [
    {
     "data": {
      "image/png": "[encoded data removed]",
      "text/plain": [
       "<Figure size 432x288 with 1 Axes>"
      ]
     },
     "metadata": {
      "needs_background": "light"
     },
     "output_type": "display_data"
    }
   ],
   "source": [
    "plt.plot(alpha_iters, [uniform_optimal_cost] * msrm_num, 'k', label='Offline Optimal')\n",
    "plt.plot(alpha_iters, [uniform_meyerson_cost] * msrm_num, 'b', label='Meyerson')\n",
    "plt.plot(alpha_iters, uniform_alpha, 'g', label='PredFL')\n",
    "plt.xlabel(r'$\\alpha$')\n",
    "plt.ylabel('Overall Cost')\n",
    "plt.ticklabel_format(axis=\"y\", style=\"sci\", scilimits=(0,0))\n",
    "plt.legend()\n",
    "plt.title(\"Uniform n: {0} - {1}\".format(n_uniform, r'$\\alpha$-Predictor'), fontsize=14)\n",
    "\n",
    "plt.savefig(\"uniform_alpha_cost\")"
   ]
  },
  {
   "cell_type": "code",
   "execution_count": 121,
   "metadata": {},
   "outputs": [],
   "source": [
    "uniform_alpha_cp = calculate_cp(uniform_optimal_cost, uniform_alpha)"
   ]
  },
  {
   "cell_type": "code",
   "execution_count": 122,
   "metadata": {},
   "outputs": [
    {
     "data": {
      "image/png": "[encoded data removed]",
      "text/plain": [
       "<Figure size 432x288 with 1 Axes>"
      ]
     },
     "metadata": {
      "needs_background": "light"
     },
     "output_type": "display_data"
    }
   ],
   "source": [
    "plt.plot(alpha_iters, [uniform_meyerson_cost/uniform_optimal_cost] * msrm_num, 'b', label='Meyerson')\n",
    "plt.plot(alpha_iters, uniform_alpha_cp, 'g', label='PredFL')\n",
    "\n",
    "plt.xlabel(r'$\\alpha$')\n",
    "plt.ylabel('Competitive Ratio')\n",
    "plt.ticklabel_format(axis=\"y\", style=\"sci\", scilimits=(0,0))\n",
    "plt.legend()\n",
    "plt.title(\"Uniform n: {0} - {1}\".format(n_uniform, r'$\\alpha$-Predictor'), fontsize=14)\n",
    "\n",
    "plt.savefig(\"uniform_alpha_cp\")"
   ]
  },
  {
   "cell_type": "markdown",
   "metadata": {},
   "source": [
    "#### [3.2] Performance over alpha  (alpha_gaussian_predictor)"
   ]
  },
  {
   "cell_type": "code",
   "execution_count": null,
   "metadata": {},
   "outputs": [],
   "source": [
    "alpha_iters = np.linspace(0,1.2,msrm_num)\n",
    "\n",
    "params = {\n",
    "    'points' : uniform_wcs, \n",
    "    'f' : f_diameter,\n",
    "    'optimal_solution' : uniform_solution,\n",
    "    'predictor' : alpha_gaussian_predictor,\n",
    "    'predictor_params' : alpha_iters,\n",
    "    'avg_iterations' : uniform_avg_iterations,\n",
    "}\n"
   ]
  },
  {
   "cell_type": "code",
   "execution_count": null,
   "metadata": {},
   "outputs": [],
   "source": [
    "%%time\n",
    "uniform_alpha_gaussian_r = run_experiments(**params)"
   ]
  },
  {
   "cell_type": "code",
   "execution_count": 131,
   "metadata": {},
   "outputs": [],
   "source": [
    "uniform_alpha_gaussian = simulated_costs(uniform_meyerson_cost, uniform_alpha_gaussian_r)"
   ]
  },
  {
   "cell_type": "code",
   "execution_count": 133,
   "metadata": {},
   "outputs": [
    {
     "data": {
      "image/png": "[encoded data removed]",
      "text/plain": [
       "<Figure size 432x288 with 1 Axes>"
      ]
     },
     "metadata": {
      "needs_background": "light"
     },
     "output_type": "display_data"
    }
   ],
   "source": [
    "plt.plot(alpha_iters, [uniform_optimal_cost] * msrm_num, 'k', label='Offline Optimal')\n",
    "plt.plot(alpha_iters, [uniform_meyerson_cost] * msrm_num, 'b', label='Meyerson')\n",
    "plt.plot(alpha_iters, uniform_alpha_gaussian, 'g', label='PredFL')\n",
    "\n",
    "plt.xlabel(r'$\\alpha$')\n",
    "plt.ylabel('Overall Cost')\n",
    "plt.ticklabel_format(axis=\"y\", style=\"sci\", scilimits=(0,0))\n",
    "plt.legend()\n",
    "plt.title(\"Uniform n: {0} - {1}\".format(n_uniform, r'$\\alpha$-Gaussian Predictor (std=0.2)'), fontsize=14)\n",
    "\n",
    "plt.savefig(\"uniform_alpha_gaussian_cost_02\")"
   ]
  },
  {
   "cell_type": "code",
   "execution_count": 134,
   "metadata": {},
   "outputs": [],
   "source": [
    "uniform_alpha_gaussian_cp = calculate_cp(uniform_optimal_cost, uniform_alpha_gaussian)"
   ]
  },
  {
   "cell_type": "code",
   "execution_count": 135,
   "metadata": {},
   "outputs": [
    {
     "data": {
      "image/png": "[encoded data removed]",
      "text/plain": [
       "<Figure size 432x288 with 1 Axes>"
      ]
     },
     "metadata": {
      "needs_background": "light"
     },
     "output_type": "display_data"
    }
   ],
   "source": [
    "plt.plot(alpha_iters, [uniform_meyerson_cost/uniform_optimal_cost] * msrm_num, 'b', label='Meyerson')\n",
    "plt.plot(alpha_iters, uniform_alpha_gaussian_cp, 'g', label='PredFL')\n",
    "\n",
    "plt.xlabel(r'$\\alpha$')\n",
    "plt.ylabel('Competitive Ratio')\n",
    "plt.ticklabel_format(axis=\"y\", style=\"sci\", scilimits=(0,0))\n",
    "plt.legend()\n",
    "plt.title(\"Uniform n: {0} - {1}\".format(n_uniform, r'$\\alpha$-Gaussian Predictor (std=0.2)'), fontsize=14)\n",
    "\n",
    "plt.savefig(\"uniform_alpha_gaussian_cp_02\")"
   ]
  },
  {
   "cell_type": "markdown",
   "metadata": {},
   "source": [
    "#### [3.3] Performance over std (alpha_gaussian_predictor) (truncated)"
   ]
  },
  {
   "cell_type": "code",
   "execution_count": 194,
   "metadata": {},
   "outputs": [],
   "source": [
    "def run_experiments_extra(points, f, optimal_solution, predictor, predictor_params, std, avg_iterations):\n",
    "    opt_cost, opt_facs, opt_assgn = optimal_solution\n",
    "\n",
    "    pred_costs = []\n",
    "    \n",
    "    for param in predictor_params:\n",
    "        preds = predictor(opt_assgn, param, std)\n",
    "\n",
    "        avg_pred = 0\n",
    "        for _ in range(avg_iterations):\n",
    "            pred_cost, _, _ = PredFL(points, preds, f)\n",
    "            avg_pred += pred_cost\n",
    "\n",
    "            \n",
    "        avg_pred /= avg_iterations\n",
    "        pred_costs.append(avg_pred)\n",
    "    \n",
    "    return pred_costs"
   ]
  },
  {
   "cell_type": "code",
   "execution_count": 294,
   "metadata": {},
   "outputs": [],
   "source": [
    "msrm_num = 10"
   ]
  },
  {
   "cell_type": "code",
   "execution_count": 196,
   "metadata": {},
   "outputs": [],
   "source": [
    "uniform_avg_iterations = 100"
   ]
  },
  {
   "cell_type": "code",
   "execution_count": 197,
   "metadata": {},
   "outputs": [
    {
     "name": "stdout",
     "output_type": "stream",
     "text": [
      "! (std: 0.1)! (std: 0.2)! (std: 0.3)! (std: 0.4)"
     ]
    }
   ],
   "source": [
    "alpha_iters = np.linspace(0.5,1.2,msrm_num)\n",
    "\n",
    "std_iters = [0, 0.2, 0.4]\n",
    "std_costs_truncated_r = []\n",
    "for std in std_iters:\n",
    "    print('! (std: {0})'.format(std),end='')\n",
    "    \n",
    "    params = {\n",
    "        'points' : uniform_wcs, \n",
    "        'f' : f_diameter,\n",
    "        'optimal_solution' : uniform_solution,\n",
    "        'predictor' : alpha_gaussian_predictor_truncated,\n",
    "        'predictor_params' : alpha_iters,\n",
    "        'std' : std,\n",
    "        'avg_iterations' : uniform_avg_iterations,\n",
    "    }\n",
    "    std_costs_truncated_r.append(run_experiments_extra(**params))"
   ]
  },
  {
   "cell_type": "code",
   "execution_count": 201,
   "metadata": {},
   "outputs": [],
   "source": [
    "# save_solutions(std_costs_truncated_r, 'std_costs_truncated_r')"
   ]
  },
  {
   "cell_type": "code",
   "execution_count": 311,
   "metadata": {},
   "outputs": [],
   "source": [
    "std_costs_truncated = []\n",
    "std_number = len(std_iters)\n",
    "\n",
    "for i in range(std_number):\n",
    "    std_costs_truncated.append(simulated_costs(uniform_meyerson_cost, std_costs_truncated_r[i]))"
   ]
  },
  {
   "cell_type": "code",
   "execution_count": 327,
   "metadata": {},
   "outputs": [
    {
     "data": {
      "image/png": "[encoded data removed]",
      "text/plain": [
       "<Figure size 432x288 with 1 Axes>"
      ]
     },
     "metadata": {
      "needs_background": "light"
     },
     "output_type": "display_data"
    }
   ],
   "source": [
    "colors = ['r', 'y', 'c', 'm', 'green']\n",
    "# colors = ['r', 'm', 'green']\n",
    "\n",
    "for i in range(std_number):\n",
    "    plt.plot(alpha_iters, std_costs_truncated[i], colors[i], label='PredFL std: {0}'.format(round(std_iters[i],2)))\n",
    "\n",
    "plt.plot(alpha_iters, [uniform_optimal_cost] * msrm_num, 'k', label='Offline Optimal')\n",
    "plt.plot(alpha_iters, [uniform_meyerson_cost] * msrm_num, 'b', label='Meyerson')\n",
    "\n",
    "plt.xlabel(r'$\\alpha$')\n",
    "plt.ylabel('Overall Cost')\n",
    "plt.ticklabel_format(axis=\"y\", style=\"sci\", scilimits=(0,0))\n",
    "plt.legend()\n",
    "plt.title(\"Uniform n: {0} - {1}\".format(n_uniform, r'$\\alpha$-Gaussian Predictor'), fontsize=14)\n",
    "\n",
    "plt.savefig(\"uniform_std_costs_t\")"
   ]
  },
  {
   "cell_type": "code",
   "execution_count": 328,
   "metadata": {},
   "outputs": [],
   "source": [
    "std_cp_truncated = []\n",
    "\n",
    "for i in range(std_number):\n",
    "    std_cp_truncated.append(calculate_cp(uniform_optimal_cost, std_costs_truncated[i]))"
   ]
  },
  {
   "cell_type": "code",
   "execution_count": 330,
   "metadata": {},
   "outputs": [
    {
     "data": {
      "image/png": "[encoded data removed]",
      "text/plain": [
       "<Figure size 432x288 with 1 Axes>"
      ]
     },
     "metadata": {
      "needs_background": "light"
     },
     "output_type": "display_data"
    }
   ],
   "source": [
    "# colors = ['r', 'y', 'c', 'm', 'green']\n",
    "colors = ['r', 'm', 'green']\n",
    "\n",
    "# plt.subplots(figsize=(15,3))\n",
    "for i in range(std_number):\n",
    "    plt.plot(alpha_iters[:-1], std_cp_truncated[i][:-1], colors[i], label='PredFL std: {0}'.format(round(std_iters[i],2)))\n",
    "\n",
    "plt.plot(alpha_iters[:-1], [uniform_meyerson_cost / uniform_optimal_cost] * (msrm_num-1), 'b', label='Meyerson')\n",
    "\n",
    "plt.ylim(bottom=1.450)\n",
    "\n",
    "plt.xlabel(r'$\\alpha$')\n",
    "plt.ylabel('Competitive Ratio')\n",
    "plt.ticklabel_format(axis=\"y\", style=\"sci\", scilimits=(0,0))\n",
    "plt.legend()\n",
    "plt.title(\"Uniform n: {0} - {1}\".format(n_uniform, r'$\\alpha$-Gaussian Predictor'), fontsize=14)\n",
    "\n",
    "plt.savefig(\"uniform_std_cp_t\")"
   ]
  },
  {
   "cell_type": "code",
   "execution_count": null,
   "metadata": {},
   "outputs": [],
   "source": []
  },
  {
   "cell_type": "markdown",
   "metadata": {},
   "source": [
    "#### [3.4] Performance over alpha (random_alpha_predictor)"
   ]
  },
  {
   "cell_type": "code",
   "execution_count": 367,
   "metadata": {},
   "outputs": [],
   "source": [
    "msrm_num = 20"
   ]
  },
  {
   "cell_type": "code",
   "execution_count": 369,
   "metadata": {},
   "outputs": [],
   "source": [
    "alpha_iters = np.linspace(0,1.2,msrm_num)\n",
    "\n",
    "params = {\n",
    "    'points' : uniform_wcs, \n",
    "    'f' : f_diameter,\n",
    "    'optimal_solution' : uniform_solution,\n",
    "    'predictor' : random_alpha_predictor,\n",
    "    'predictor_params' : alpha_iters,\n",
    "    'avg_iterations' : uniform_avg_iterations,\n",
    "}\n"
   ]
  },
  {
   "cell_type": "code",
   "execution_count": 370,
   "metadata": {},
   "outputs": [
    {
     "name": "stdout",
     "output_type": "stream",
     "text": [
      "CPU times: user 14min 7s, sys: 22.9 s, total: 14min 30s\n",
      "Wall time: 13min 46s\n"
     ]
    }
   ],
   "source": [
    "%%time\n",
    "uniform_random_alpha_r = run_experiments(**params)"
   ]
  },
  {
   "cell_type": "code",
   "execution_count": 371,
   "metadata": {},
   "outputs": [],
   "source": [
    "uniform_random_alpha = simulated_costs(uniform_meyerson_cost, uniform_random_alpha_r)"
   ]
  },
  {
   "cell_type": "code",
   "execution_count": 372,
   "metadata": {},
   "outputs": [
    {
     "data": {
      "image/png": "[encoded data removed]",
      "text/plain": [
       "<Figure size 432x288 with 1 Axes>"
      ]
     },
     "metadata": {
      "needs_background": "light"
     },
     "output_type": "display_data"
    }
   ],
   "source": [
    "plt.plot(alpha_iters, [uniform_optimal_cost] * msrm_num, 'k', label='Offline Optimal')\n",
    "plt.plot(alpha_iters, [uniform_meyerson_cost] * msrm_num, 'b', label='Meyerson')\n",
    "plt.plot(alpha_iters, uniform_random_alpha, 'g', label='PredFL')\n",
    "plt.xlabel(r'$\\alpha$')\n",
    "plt.ylabel('Overall Cost')\n",
    "plt.ticklabel_format(axis=\"y\", style=\"sci\", scilimits=(0,0))\n",
    "plt.legend()\n",
    "plt.title(\"Uniform n: {0} - {1}\".format(n_uniform, r'$\\alpha$-Random Predictor'), fontsize=14)\n",
    "\n",
    "plt.savefig(\"uniform_random_alpha_cost\")"
   ]
  },
  {
   "cell_type": "code",
   "execution_count": 373,
   "metadata": {},
   "outputs": [],
   "source": [
    "uniform_random_alpha_cp = calculate_cp(uniform_optimal_cost, uniform_random_alpha)"
   ]
  },
  {
   "cell_type": "code",
   "execution_count": 374,
   "metadata": {},
   "outputs": [
    {
     "data": {
      "image/png": "[encoded data removed]",
      "text/plain": [
       "<Figure size 432x288 with 1 Axes>"
      ]
     },
     "metadata": {
      "needs_background": "light"
     },
     "output_type": "display_data"
    }
   ],
   "source": [
    "plt.plot(alpha_iters, [uniform_meyerson_cost/uniform_optimal_cost] * msrm_num, 'b', label='Meyerson')\n",
    "plt.plot(alpha_iters, uniform_random_alpha_cp, 'g', label='PredFL')\n",
    "\n",
    "plt.xlabel(r'$\\alpha$')\n",
    "plt.ylabel('Competitive Ratio')\n",
    "plt.ticklabel_format(axis=\"y\", style=\"sci\", scilimits=(0,0))\n",
    "plt.legend()\n",
    "plt.title(\"Uniform n: {0} - {1}\".format(n_uniform, r'$\\alpha$-Random Predictor'), fontsize=14)\n",
    "\n",
    "plt.savefig(\"uniform_random_alpha_cp\")"
   ]
  },
  {
   "cell_type": "code",
   "execution_count": null,
   "metadata": {},
   "outputs": [],
   "source": []
  },
  {
   "cell_type": "code",
   "execution_count": null,
   "metadata": {},
   "outputs": [],
   "source": []
  }
 ],
 "metadata": {
  "colab": {
   "name": "facility_loc.ipynb",
   "provenance": []
  },
  "environment": {
   "name": "common-cpu.m69",
   "type": "gcloud",
   "uri": "gcr.io/deeplearning-platform-release/base-cpu:m69"
  },
  "kernelspec": {
   "display_name": "Python 3",
   "language": "python",
   "name": "python3"
  },
  "language_info": {
   "codemirror_mode": {
    "name": "ipython",
    "version": 3
   },
   "file_extension": ".py",
   "mimetype": "text/x-python",
   "name": "python",
   "nbconvert_exporter": "python",
   "pygments_lexer": "ipython3",
   "version": "3.7.10"
  },
  "toc": {
   "base_numbering": 1,
   "nav_menu": {},
   "number_sections": true,
   "sideBar": true,
   "skip_h1_title": false,
   "title_cell": "Table of Contents",
   "title_sidebar": "Contents",
   "toc_cell": false,
   "toc_position": {
    "height": "calc(100% - 180px)",
    "left": "10px",
    "top": "150px",
    "width": "256px"
   },
   "toc_section_display": true,
   "toc_window_display": true
  }
 },
 "nbformat": 4,
 "nbformat_minor": 4
}
